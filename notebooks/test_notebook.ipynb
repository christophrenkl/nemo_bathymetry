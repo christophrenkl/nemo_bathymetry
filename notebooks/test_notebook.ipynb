{
 "cells": [
  {
   "cell_type": "markdown",
   "metadata": {},
   "source": [
    "# Create a Bathymetry for GoMSS\n",
    "\n",
    "The Gulf of Maine and Scotian Shelf (GoMSS) regional ocean circulation model is a regional configuration of the NEMO ocean model. This notebook describes how to create a bathymetry file for the model applying an optimal interpolation (OI) approach using ETOPO1 and in-situ observations.\n",
    "\n",
    "The steps presented here follow the `main()` method in the `nemo_bathymetry` package.\n",
    "\n",
    "If you want to install and use the package:\n",
    "1. Clone the `nemo_bathymetry` repository: `$ git clone https://github.com/christophrenkl/nemo_bathymetry.git`\n",
    "2. Create conda environment: `$ conda env create`\n",
    "3. Activate conda environment: `$ source activate nemo_bathymetry`"
   ]
  }
 ],
 "metadata": {
  "kernelspec": {
   "display_name": "Python [conda root]",
   "language": "python",
   "name": "conda-root-py"
  },
  "language_info": {
   "codemirror_mode": {
    "name": "ipython",
    "version": 3
   },
   "file_extension": ".py",
   "mimetype": "text/x-python",
   "name": "python",
   "nbconvert_exporter": "python",
   "pygments_lexer": "ipython3",
   "version": "3.5.3"
  }
 },
 "nbformat": 4,
 "nbformat_minor": 2
}
