{
 "cells": [
  {
   "cell_type": "code",
   "execution_count": null,
   "metadata": {
    "collapsed": true
   },
   "outputs": [],
   "source": [
    "%matplotlib inline\n",
    "\n",
    "# import modules\n",
    "import sys\n",
    "import os\n",
    "# import xarray as xr\n",
    "import pandas as pd\n",
    "import numpy as np\n",
    "from scipy.spatial.distance import cdist\n",
    "# import netCDF4 as nc\n",
    "# import time\n",
    "# import mpl_toolkits.basemap\n",
    "# import cartopy.crs as ccrs\n",
    "# import cartopy.feature as cfeature\n",
    "from mpl_toolkits.basemap import Basemap\n",
    "from scipy.spatial import cKDTree\n",
    "import matplotlib.pyplot as plt\n",
    "# import matplotlib.colors as colors\n",
    "\n",
    "# from matplotlib import path\n",
    "# from cmocean import cm\n",
    "\n",
    "modpath = os.path.abspath(os.path.join('/home/chrenkl/Projects/nemo_tools/src'))\n",
    "if modpath not in sys.path:\n",
    "    sys.path.append(modpath)\n",
    "import nemo_tools as nt\n",
    "\n",
    "modpath = os.path.abspath(os.path.join('/home/chrenkl/Projects/nemo_bathymetry/src'))\n",
    "if modpath not in sys.path:\n",
    "    sys.path.append(modpath)\n",
    "\n",
    "from create_bathymetry import read_insitu, \\\n",
    "                              read_webtide                            "
   ]
  },
  {
   "cell_type": "code",
   "execution_count": null,
   "metadata": {
    "collapsed": true
   },
   "outputs": [],
   "source": [
    "# project directory\n",
    "projdir = '/home/chrenkl/Projects/nemo_bathymetry'\n",
    "\n",
    "# NEMO configuration\n",
    "conf = 'MBnest'\n",
    "    \n",
    "# WebTide data set\n",
    "wtset = 'nwatl'\n",
    "\n",
    "# tidal constituents for datum correction and minimum depth\n",
    "constituents = ['M2', 'S2', 'N2', 'K1', 'O1']\n",
    "\n",
    "# create directory for figures\n",
    "figdir = os.path.join(projdir, 'reports/figures', conf)\n",
    "\n",
    "if not os.path.exists(figdir):\n",
    "        os.makedirs(figdir)"
   ]
  },
  {
   "cell_type": "markdown",
   "metadata": {},
   "source": [
    "## Data Preparation\n",
    "\n",
    "For the gridding of the bathymetry observations we need the NEMO grid coordinates and the observations itself."
   ]
  },
  {
   "cell_type": "code",
   "execution_count": null,
   "metadata": {},
   "outputs": [],
   "source": [
    "# NEMO grid ---------------------------------------------------\n",
    "NEMO = nt.nemo_grid(os.path.join(projdir, 'data/raw', conf,\n",
    "                                 'Configuration',\n",
    "                                 'coordinates.nc'))\n",
    "\n",
    "# create map projection for interpolations\n",
    "proj = Basemap(projection='merc',\n",
    "               llcrnrlat=NEMO['latmin'], urcrnrlat=NEMO['latmax'],\n",
    "               llcrnrlon=NEMO['lonmin'], urcrnrlon=NEMO['lonmax'],\n",
    "               resolution='h')\n",
    "    \n",
    "# bathymetry observations -------------------------------------\n",
    "\n",
    "### >>> for now just read in the cleaned up data <<<\n",
    "LLWLT = pd.read_csv(os.path.join(projdir, 'data/interim', 'LLWLTData.lld'),\n",
    "                                 header=None,\n",
    "                                 delimiter='\\s+',\n",
    "                                 names=['lon', 'lat', 'depth'],\n",
    "                                 engine='python')\n",
    "\n",
    "MSL = pd.read_csv(os.path.join(projdir, 'data/interim', 'MSLData.lld'),\n",
    "                               header=None,\n",
    "                               delimiter='\\s+',\n",
    "                               names=['lon', 'lat', 'depth'],\n",
    "                               engine='python')\n",
    "\n",
    "nllwt = len(LLWLT.index)"
   ]
  },
  {
   "cell_type": "markdown",
   "metadata": {},
   "source": [
    "### Correct Vertical Datum\n",
    "\n",
    "Some of the observations are referenced to Mean Sea Level (MSL) while others are with respect to Lower Low Water Large Tides (LLWLT). The goal is to unify the vertical datum of the observations. Since gridded bathymetry products like GEBCO or ETOPO1 are typically referenced to MSL, it makes sense to use it as the common vertical datum for all data sets.\n",
    "\n",
    "We correct all observations referenced to LLWLT to MSL using WebTide."
   ]
  },
  {
   "cell_type": "code",
   "execution_count": null,
   "metadata": {},
   "outputs": [],
   "source": [
    "# WebTide data\n",
    "WebTide = read_webtide(os.path.join(projdir, 'data/external/WebTide'),\n",
    "                       wtset,\n",
    "                       constituents=constituents,\n",
    "                       ampmax=True)"
   ]
  },
  {
   "cell_type": "code",
   "execution_count": null,
   "metadata": {},
   "outputs": [],
   "source": [
    "# file name of cleaned and corrected insitu data\n",
    "insitufile = os.path.join(projdir,\n",
    "                          'data/interim',\n",
    "                          '%s_in-situ_corrected.h5' % conf)\n",
    "\n",
    "try:\n",
    "\n",
    "    InSitu = pd.read_hdf(insitufile, 'InSitu')\n",
    "    print('Found in-situ_corrected.h5. Skip vertical datum correction.')\n",
    "\n",
    "except:\n",
    "\n",
    "    print('Correct vertical datum of in-situ data using WebTide.')\n",
    "\n",
    "    # source coordinates: WebTide\n",
    "    xs, ys = proj(WebTide.lon.values, WebTide.lat.values)\n",
    "\n",
    "    # target coordinates: in-situ observations\n",
    "    xt, yt = proj(LLWLT.lon.values, LLWLT.lat.values)\n",
    "\n",
    "    # create cKDTree object to represent source grid\n",
    "    kdt = cKDTree(list(zip(xs, ys)))\n",
    "\n",
    "    # find indices of the nearest grid point in the flattened array\n",
    "    dist, inds = kdt.query(list(zip(xt, yt)), k = 1)   \n",
    "\n",
    "    # initialize\n",
    "    LLWLTMSL = LLWLT.drop('depth', axis=1)\n",
    "    LLWLTMSL['depth'] = np.zeros(nllwt)\n",
    "\n",
    "    # from Fatemeh's code\n",
    "    ffact = .85 + .15 * (WebTide.ampmax[inds].values - 2.) / 3.\n",
    "    ffact[WebTide.ampmax[inds].values <= 2.] = .85\n",
    "    ffact[WebTide.ampmax[inds].values >= 5.] = 1.\n",
    "\n",
    "    # correction (negative down)\n",
    "    LLWLTMSL.depth = LLWLT.depth - ffact * WebTide.ampmax[inds].values\n",
    "\n",
    "    # concatenate data sets\n",
    "    InSitu = pd.concat([MSL, LLWLTMSL], ignore_index=True)\n",
    "\n",
    "    # release memory\n",
    "    # del LLWLT, LLWLTMSL, MSL\n",
    "\n",
    "    # save cleaned and corrected data set\n",
    "    store = pd.HDFStore(insitufile)   \n",
    "    store['InSitu'] = InSitu    \n",
    "    store.close()"
   ]
  },
  {
   "cell_type": "markdown",
   "metadata": {},
   "source": [
    "## Gridding - Barnes Algorithm"
   ]
  },
  {
   "cell_type": "code",
   "execution_count": null,
   "metadata": {
    "collapsed": true
   },
   "outputs": [],
   "source": [
    "def update_point(xp, yp, valp, xobs, yobs, values, gamma=1., kappa=None):\n",
    "    \n",
    "    # compute squared distance\n",
    "    dist2 = (xp - xobs)**2 + (yp - yobs)**2\n",
    "\n",
    "    # Barnes weights\n",
    "    wm = np.exp(-1. * dist2 / (gamma * kappa))\n",
    "\n",
    "    # compute update\n",
    "    update = np.sum(wm * np.subtract(values, valp) / wm.sum())\n",
    "\n",
    "    # compute gridded variable\n",
    "    return valp + update\n",
    "\n",
    "def calc_kappa(delta, kappa_star=5.052):\n",
    "\n",
    "    return kappa_star * (2. * delta / np.pi)**2\n",
    "\n",
    "def barnes_gridding(NEMO, obs, proj, sradius, gamma):\n",
    "    \n",
    "    # convert lat/lon of NEMO grid and observations to Cartesian coordinates\n",
    "    xm, ym = proj(NEMO.glamt.values.ravel(), NEMO.gphit.values.ravel())\n",
    "    xo, yo = proj(InSitu.lon.values, InSitu.lat.values)\n",
    "\n",
    "    # create cKDTree of NEMO grid and observations\n",
    "    otree = cKDTree(list(zip(xo, yo)))\n",
    "\n",
    "    # for all model grid points, get indices of observations within search radius\n",
    "    inds = otree.query_ball_point(list(zip(xm, ym)), r=sradius)\n",
    "    \n",
    "    # initialize array for gridded variable\n",
    "    grdvar = np.zeros(len(inds))\n",
    "    \n",
    "    for gam in gamma:\n",
    "        for idx, (matches, grd) in enumerate(zip(inds, list(zip(xm, ym)))):\n",
    "\n",
    "            ocoords = otree.data[matches]\n",
    "\n",
    "            grdvar[idx] = update_point(grd[1], grd[0], grdvar[idx],\n",
    "                                       ocoords[:,1], ocoords[:,0],\n",
    "                                       -InSitu.depth[matches].values,\n",
    "                                       gam, kappa)\n",
    "    \n",
    "    # reshape to 2D array\n",
    "    grdvar = grdvar.reshape((NEMO.dims['y'], NEMO.dims['x']))\n",
    "    \n",
    "    return grdvar    "
   ]
  },
  {
   "cell_type": "code",
   "execution_count": null,
   "metadata": {},
   "outputs": [],
   "source": [
    "# parameters\n",
    "sradius = 2500   # search radius in meters\n",
    "gamma = [1., .2] # gamma\n",
    "\n",
    "grdvar = barnes_gridding(NEMO, InSitu, proj, sradius, gamma)\n",
    "\n",
    "# create figure        \n",
    "fig, ax = plt.subplots(1, 1, figsize=(15, 4))\n",
    "p = ax.imshow(np.ma.masked_values(grdvar, 0.), origin='lower')\n",
    "plt.colorbar(p)"
   ]
  },
  {
   "cell_type": "code",
   "execution_count": null,
   "metadata": {
    "collapsed": true
   },
   "outputs": [],
   "source": [
    "# convert lat/lon of NEMO grid and observations to Cartesian coordinates\n",
    "xm, ym = proj(NEMO.glamt.values.ravel(), NEMO.gphit.values.ravel())\n",
    "xo, yo = proj(InSitu.lon.values, InSitu.lat.values)\n",
    "\n",
    "# compute intra-grid distances\n",
    "z = xm + 1j * ym\n",
    "Z = np.array([z,] * len(z))"
   ]
  },
  {
   "cell_type": "code",
   "execution_count": null,
   "metadata": {},
   "outputs": [],
   "source": [
    "print(inds)"
   ]
  },
  {
   "cell_type": "code",
   "execution_count": null,
   "metadata": {
    "collapsed": true
   },
   "outputs": [],
   "source": []
  }
 ],
 "metadata": {
  "kernelspec": {
   "display_name": "Python [conda root]",
   "language": "python",
   "name": "conda-root-py"
  },
  "language_info": {
   "codemirror_mode": {
    "name": "ipython",
    "version": 3
   },
   "file_extension": ".py",
   "mimetype": "text/x-python",
   "name": "python",
   "nbconvert_exporter": "python",
   "pygments_lexer": "ipython3",
   "version": "3.5.3"
  }
 },
 "nbformat": 4,
 "nbformat_minor": 2
}
